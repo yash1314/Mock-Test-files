{
 "cells": [
  {
   "cell_type": "markdown",
   "id": "d020cbba",
   "metadata": {},
   "source": [
    "**Q1. Move Zeroes**\n",
    "\n",
    "Given an integer array nums, move all 0's to the end of it while maintaining the relative order of the non-zero elements.\n",
    "\n",
    "Note that you must do this in-place without making a copy of the array.\n",
    "\n",
    "Example 1:\n",
    "Input: nums = [0,1,0,3,12]\n",
    "\n",
    "Output: [1,3,12,0,0]\n",
    "\n",
    "Example 2:\n",
    "Input: nums = [0]\n",
    "\n",
    "Output: [0]\n",
    "\n",
    "Constraints:\n",
    "a. 1 <= nums.length <= 10^4\n",
    "\n",
    "b. -2^31 <= nums[i] <= 2^31 - 1\n",
    "\n"
   ]
  },
  {
   "cell_type": "code",
   "execution_count": 14,
   "id": "37d532de",
   "metadata": {},
   "outputs": [],
   "source": [
    "#using two pointer approach\n",
    "\n",
    "def movezero(array):\n",
    "    j = 0\n",
    "    \n",
    "    for i in range(len(array)):\n",
    "        if array[i] != 0:\n",
    "            array[i], array[j] = array[j], array[i]\n",
    "            j += 1\n",
    "    return array"
   ]
  },
  {
   "cell_type": "code",
   "execution_count": 15,
   "id": "b4c4d54b",
   "metadata": {},
   "outputs": [
    {
     "name": "stdout",
     "output_type": "stream",
     "text": [
      "Before:  [0, 1, 0, 3, 12]\n",
      "After: [1, 3, 12, 0, 0]\n",
      "Before:  [0]\n",
      "After:  [0]\n"
     ]
    }
   ],
   "source": [
    "#Testing\n",
    "\n",
    "nums1 = [0, 1, 0, 3, 12]\n",
    "print('Before: ', nums1)\n",
    "movezero(nums1)\n",
    "print('After:', nums1) \n",
    "\n",
    "nums2 = [0]\n",
    "print('Before: ', nums2)\n",
    "movezero(nums2)\n",
    "print('After: ', nums2)"
   ]
  },
  {
   "cell_type": "markdown",
   "id": "f403ee68",
   "metadata": {},
   "source": [
    "___________________________________________________________________"
   ]
  },
  {
   "cell_type": "markdown",
   "id": "922d2955",
   "metadata": {},
   "source": [
    "**Q2. First Unique Character in a String**\n",
    "\n",
    "Given a string s, find the first non-repeating character in it and return its index. If it does not exist, return -1.\n",
    "\n",
    "Example 1:\n",
    "Input: s = \"leetcode\"\n",
    "\n",
    "Output: 0\n",
    "\n",
    "Example 2:\n",
    "Input: s = \"loveleetcode\"\n",
    "\n",
    "Output: 2\n",
    "\n",
    "Example 3:\n",
    "Input: s = \"aabb\"\n",
    "\n",
    "Output: -1\n",
    "\n",
    "Constraints: a. 1 <= s.length <= 10^5 b. s consists of only lowercase English letters."
   ]
  },
  {
   "cell_type": "code",
   "execution_count": 18,
   "id": "e375966b",
   "metadata": {},
   "outputs": [],
   "source": [
    "def nonrepeat(s):\n",
    "    \n",
    "    char_times = {}\n",
    "    \n",
    "    for char in s:\n",
    "        if char in char_times:\n",
    "            char_times[char] += 1\n",
    "        else:\n",
    "            char_times[char] = 1\n",
    "            \n",
    "    \n",
    "    for i in s:\n",
    "        if char_times[i] == 1:\n",
    "            return s.index(i)\n",
    "        \n",
    "    \n",
    "    return -1"
   ]
  },
  {
   "cell_type": "code",
   "execution_count": 19,
   "id": "9e2348f3",
   "metadata": {},
   "outputs": [
    {
     "name": "stdout",
     "output_type": "stream",
     "text": [
      "0\n",
      "2\n",
      "-1\n"
     ]
    }
   ],
   "source": [
    "#Testing\n",
    "\n",
    "print(nonrepeat(\"leetcode\"))   \n",
    "print(nonrepeat(\"loveleetcode\"))  \n",
    "print(nonrepeat(\"aabb\"))    "
   ]
  },
  {
   "cell_type": "code",
   "execution_count": null,
   "id": "6fd22d86",
   "metadata": {},
   "outputs": [],
   "source": []
  }
 ],
 "metadata": {
  "kernelspec": {
   "display_name": "Python 3 (ipykernel)",
   "language": "python",
   "name": "python3"
  },
  "language_info": {
   "codemirror_mode": {
    "name": "ipython",
    "version": 3
   },
   "file_extension": ".py",
   "mimetype": "text/x-python",
   "name": "python",
   "nbconvert_exporter": "python",
   "pygments_lexer": "ipython3",
   "version": "3.10.9"
  }
 },
 "nbformat": 4,
 "nbformat_minor": 5
}
