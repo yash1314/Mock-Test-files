{
 "cells": [
  {
   "cell_type": "markdown",
   "id": "6a60df3c-5e59-4cff-a0b1-1754e6ffb4d1",
   "metadata": {},
   "source": [
    "**Q 17.** Write a function that takes a list of numbers as input and returns a new list containing only the even numbers from the input list. Use list comprehension to solve this problem.\n",
    "\n",
    "Example:\n",
    "Input: [1, 2, 3, 4, 5, 6, 7, 8, 9, 10]\n",
    "\n",
    "Output: [2, 4, 6, 8, 10]"
   ]
  },
  {
   "cell_type": "code",
   "execution_count": 6,
   "id": "60cefe37-0760-4a99-a0b0-05058b9d1718",
   "metadata": {},
   "outputs": [],
   "source": [
    "def even_num(n):    \n",
    "    return [item for item in n if item % 2 == 0]"
   ]
  },
  {
   "cell_type": "code",
   "execution_count": 12,
   "id": "3b1d93b2-67a5-4637-b2b0-c55529db3364",
   "metadata": {},
   "outputs": [
    {
     "data": {
      "text/plain": [
       "[2, 4, 6, 8, 10]"
      ]
     },
     "execution_count": 12,
     "metadata": {},
     "output_type": "execute_result"
    }
   ],
   "source": [
    "x = [1, 2, 3, 4, 5, 6, 7, 8, 9, 10]\n",
    "even_num(x)"
   ]
  },
  {
   "cell_type": "markdown",
   "id": "23ce5dc2-e21d-4660-828a-206ad92ea2f8",
   "metadata": {},
   "source": [
    "**Q.18.** Implement a decorator function called ‘timer’ that measures the execution time of a function. The ‘timer’ decorator should print the time taken by the decorated function to execute. Use the ‘time’ module in Python to calculate the execution time.\n",
    "\n",
    "**Example:**\n",
    "\n",
    "import time\n",
    "\n",
    "@timer\n",
    "def my_function():\n",
    "    # Function code goes here\n",
    "    time.sleep(2)\n",
    "\n",
    "my_function()\n",
    "\n",
    "Output:\n",
    "\"Execution time: 2.00123 seconds\""
   ]
  },
  {
   "cell_type": "code",
   "execution_count": 8,
   "id": "d190cb90-4844-4532-b025-4e188c133a66",
   "metadata": {},
   "outputs": [],
   "source": [
    "import time\n",
    "\n",
    "def timer(func):\n",
    "    def wrapper(*args, **kwargs):\n",
    "        start_time = time.time()\n",
    "        result = func(*args, **kwargs)\n",
    "        end_time = time.time()\n",
    "        execution_time = end_time - start_time\n",
    "        print(f\"Execution time: {execution_time} seconds\")\n",
    "        return result\n",
    "    return wrapper"
   ]
  },
  {
   "cell_type": "code",
   "execution_count": 13,
   "id": "6296835b-4ce7-400d-ac25-b0ef21b3cac3",
   "metadata": {},
   "outputs": [
    {
     "name": "stdout",
     "output_type": "stream",
     "text": [
      "Execution time: 0.0 seconds\n"
     ]
    },
    {
     "data": {
      "text/plain": [
       "[2, 4, 6, 8, 10]"
      ]
     },
     "execution_count": 13,
     "metadata": {},
     "output_type": "execute_result"
    }
   ],
   "source": [
    "@timer\n",
    "def my_function(input_list):\n",
    "    return [num for num in input_list if num % 2 == 0]\n",
    "    time.sleep(2)  \n",
    "\n",
    "my_function(input_list = x)"
   ]
  },
  {
   "cell_type": "markdown",
   "id": "678fb476-25f3-4c4c-87b2-5fe1b002a8b9",
   "metadata": {},
   "source": [
    "**Q19.** Write a function called ‘calculate_mean’ that takes a list of numbers as input and returns the mean (average) of the numbers. The function should calculate the mean using the sum of the numbers divided by the total count.\n",
    "\n",
    "**Example:**\n",
    "\n",
    "def calculate_mean(numbers):\n",
    "    total = sum(numbers)\n",
    "    count = len(numbers)\n",
    "    mean = total / count\n",
    "    return mean\n",
    "\n",
    "data = [10, 15, 20, 25, 30]\n",
    "mean_value = calculate_mean(data)\n",
    "print(\"Mean:\", mean_value)\n",
    "\n",
    "Output:\n",
    "Mean: 20.0"
   ]
  },
  {
   "cell_type": "code",
   "execution_count": 15,
   "id": "1517a7d7-4168-4201-96b0-2a2f620e38d4",
   "metadata": {},
   "outputs": [],
   "source": [
    "def cal_mean(number):\n",
    "    if not number:\n",
    "        return None\n",
    "    total_sum = sum(number)\n",
    "    count = len(number)\n",
    "    mean = total_sum / count\n",
    "    return mean\n"
   ]
  },
  {
   "cell_type": "code",
   "execution_count": 16,
   "id": "0b144dfb-32d3-4c81-91d0-df7f3269cbab",
   "metadata": {},
   "outputs": [
    {
     "name": "stdout",
     "output_type": "stream",
     "text": [
      "Mean :  8.272727272727273\n"
     ]
    }
   ],
   "source": [
    "test = [2,3,43,3,4,3,2,5,2,5,19]\n",
    "\n",
    "mean_value = cal_mean(test)\n",
    "print(\"Mean : \",mean_value)"
   ]
  },
  {
   "cell_type": "markdown",
   "id": "0bc21533-2f71-4f7b-b2e0-7cfbf266d61b",
   "metadata": {},
   "source": [
    "**Q.20** Write a function called ‘perform_hypothesis_test’ that takes two lists of numbers as input, representing two samples. The function should perform a two-sample t-test and return the p-value. Use the ‘scipy.stats’ module in Python to calculate the t-test and p-value.\n",
    "\n"
   ]
  },
  {
   "cell_type": "code",
   "execution_count": 18,
   "id": "ab061be6-102b-4211-8419-b9f20e91cf3a",
   "metadata": {},
   "outputs": [],
   "source": [
    "from scipy import stats\n",
    "\n",
    "def perform_hypothesis_test(sample1, sample2):\n",
    "    \n",
    "    t_stat, p_value = stats.ttest_ind(sample1, sample2)\n",
    "    return p_value"
   ]
  },
  {
   "cell_type": "code",
   "execution_count": 19,
   "id": "e6bbf86f-6130-46b7-ab74-51aa3df00343",
   "metadata": {},
   "outputs": [
    {
     "name": "stdout",
     "output_type": "stream",
     "text": [
      "P-value :  0.09434977284243756\n"
     ]
    }
   ],
   "source": [
    "sample1 = [5, 10, 15, 20, 25]\n",
    "sample2 = [10, 20, 30, 40, 50]\n",
    "\n",
    "p_value = perform_hypothesis_test(sample1, sample2)\n",
    "\n",
    "print(\"P-value : \",p_value)"
   ]
  }
 ],
 "metadata": {
  "kernelspec": {
   "display_name": "Python 3 (ipykernel)",
   "language": "python",
   "name": "python3"
  },
  "language_info": {
   "codemirror_mode": {
    "name": "ipython",
    "version": 3
   },
   "file_extension": ".py",
   "mimetype": "text/x-python",
   "name": "python",
   "nbconvert_exporter": "python",
   "pygments_lexer": "ipython3",
   "version": "3.10.9"
  }
 },
 "nbformat": 4,
 "nbformat_minor": 5
}
